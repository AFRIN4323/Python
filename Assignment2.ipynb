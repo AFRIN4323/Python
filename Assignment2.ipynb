{
 "cells": [
  {
   "cell_type": "code",
   "execution_count": 19,
   "id": "85e3b300-a35a-4317-b9a1-7e03456a7bb1",
   "metadata": {},
   "outputs": [
    {
     "name": "stdout",
     "output_type": "stream",
     "text": [
      "25 <class 'int'>\n"
     ]
    }
   ],
   "source": [
    "# Question 1:\n",
    "# Create a variable age and assign it the value 25 . Then print the value of\n",
    "# age along with its data type using the type() function.\n",
    "\n",
    "age = (25)\n",
    "print(age,type(age))"
   ]
  },
  {
   "cell_type": "code",
   "execution_count": 39,
   "id": "a7d6ae09-ef2f-4503-b873-fda1af463dc1",
   "metadata": {},
   "outputs": [
    {
     "name": "stdout",
     "output_type": "stream",
     "text": [
      "12.5 <class 'float'>\n",
      "12 <class 'int'>\n"
     ]
    }
   ],
   "source": [
    "# Question 2:\n",
    "# Assign the number 12.5 to a variable price . Print both the variable and its\n",
    "# data type. Then assign the value 12 to the same variable and print its data\n",
    "# type again. What do you observe? \n",
    "\n",
    "price = 12.5\n",
    "print(price, type(price))\n",
    "\n",
    "price = 12\n",
    "print(price, type(price))  # 12.5 is float and 12 is integer"
   ]
  },
  {
   "cell_type": "code",
   "execution_count": 37,
   "id": "1bfe37fc-a65c-4597-b5d1-a7a07827a732",
   "metadata": {},
   "outputs": [
    {
     "name": "stdout",
     "output_type": "stream",
     "text": [
      "True <class 'bool'>\n",
      "False <class 'bool'>\n"
     ]
    }
   ],
   "source": [
    "# Question 3:\n",
    "# Create a variable is_raining and set it to True . Print the value of the variable\n",
    "# along with its type. Then set is_raining to False and print the new value and\n",
    "# type.\n",
    "\n",
    "is_raining = True\n",
    "print(is_raining, type(is_raining))\n",
    "\n",
    "is_raining = False\n",
    "print(is_raining, type(is_raining))"
   ]
  },
  {
   "cell_type": "code",
   "execution_count": 59,
   "id": "6b831a7c-b9d7-466e-93ee-6aa83a417f96",
   "metadata": {},
   "outputs": [
    {
     "name": "stdout",
     "output_type": "stream",
     "text": [
      "My name is Afrin Dilawar Shaikh\n"
     ]
    }
   ],
   "source": [
    "# Question 4:\n",
    "# Create a variable my_name and store your full name in it as a string. Then\n",
    "# print the value of my_name using single quotes ' .\n",
    "\n",
    "my_name = 'Afrin Dilawar Shaikh'\n",
    "print('My name is'+ \" \"  + my_name)"
   ]
  },
  {
   "cell_type": "code",
   "execution_count": 67,
   "id": "3376b27f-f246-4485-8e9a-83821b3a1f28",
   "metadata": {},
   "outputs": [
    {
     "name": "stdin",
     "output_type": "stream",
     "text": [
      "Enter your name:  Afrin\n",
      "Enter your age:  25\n"
     ]
    },
    {
     "name": "stdout",
     "output_type": "stream",
     "text": [
      "Hello,Afrin! you are 25 years old.\n"
     ]
    }
   ],
   "source": [
    "# Write a Python program that asks the user for their name and age using the\n",
    "# input() function. Store the inputs in variables and print a sentence like\n",
    "# \"Hello, [Name]! You are [Age] years old.\" Ensure you cast the age to an\n",
    "# integer.\n",
    "\n",
    "Name = input(\"Enter your name: \")\n",
    "Age = input(\"Enter your age: \")\n",
    "print(\"Hello,\" + Name + \"! you are\"+\" \" + str(int(age)) + \" years old.\")"
   ]
  },
  {
   "cell_type": "code",
   "execution_count": 69,
   "id": "43288379-a21f-44c5-9145-7d4012081970",
   "metadata": {},
   "outputs": [
    {
     "name": "stdout",
     "output_type": "stream",
     "text": [
      "10 <class 'int'> 3.5 <class 'float'>\n",
      "Sum of x and y: 13.5\n",
      "Type of sum_xy: <class 'float'>\n"
     ]
    }
   ],
   "source": [
    "# Question 6:\n",
    "# Create two variables x and y and assign them the values 10 and 3.5 ,\n",
    "# respectively. Print their values and types. Then, create a new variable\n",
    "# sum_xy and store the sum of x and y . Print the result and its type.\n",
    "\n",
    "x = 10\n",
    "y = 3.5\n",
    "print(x, type(x), y, type(y))\n",
    "\n",
    "sum_xy = x + y\n",
    "print(\"Sum of x and y:\", sum_xy)\n",
    "print(\"Type of sum_xy:\", type(sum_xy))"
   ]
  },
  {
   "cell_type": "code",
   "execution_count": 81,
   "id": "67155587-2649-40a5-bc7d-b190cd59116b",
   "metadata": {},
   "outputs": [
    {
     "name": "stdout",
     "output_type": "stream",
     "text": [
      "<class 'float'>\n",
      "<class 'str'>\n",
      "<class 'NoneType'>\n",
      "<class 'bool'>\n"
     ]
    }
   ],
   "source": [
    "# Question 7:\n",
    "# Using the type() function, check and print the data type of the following:\n",
    "\n",
    "# 45.0\n",
    "print(type(45.0))\n",
    "\n",
    "# \"hello\"\n",
    "print(type(\"hello\"))\n",
    "\n",
    "# None\n",
    "print(type(None))\n",
    "\n",
    "# False\n",
    "print(type(False))\n",
    "\n"
   ]
  },
  {
   "cell_type": "code",
   "execution_count": 87,
   "id": "77a6a94d-84fc-4ebd-8752-126625bc3d01",
   "metadata": {},
   "outputs": [
    {
     "name": "stdout",
     "output_type": "stream",
     "text": [
      "apple banana cherry\n",
      "apple,banana,cherry\n"
     ]
    }
   ],
   "source": [
    "# Question 8:\n",
    "# Write a Python program to print three strings \"apple\" , \"banana\" , and \"cherry\"\n",
    "# on the same line, separated by a space. Then modify the program to\n",
    "# separate the strings using a comma , instead of a space.\n",
    "\n",
    "print(\"apple\", \"banana\", \"cherry\")\n",
    "print(\"apple\", \"banana\", \"cherry\", sep=\",\")\n",
    "\n",
    "\n"
   ]
  },
  {
   "cell_type": "code",
   "execution_count": 91,
   "id": "d002a0d9-a12c-44d9-ba45-4baf58d7ce45",
   "metadata": {},
   "outputs": [
    {
     "name": "stdout",
     "output_type": "stream",
     "text": [
      "987654321987654321 <class 'int'>\n"
     ]
    }
   ],
   "source": [
    "# Create a variable big_number and assign it a very large integer value (e.g.,\n",
    "# 987654321987654321 ). Print the value and its type. What do you notice about\n",
    "# the size of the number?\n",
    "\n",
    "big_number = 987654321987654321\n",
    "print(big_number, type(big_number))"
   ]
  },
  {
   "cell_type": "code",
   "execution_count": 97,
   "id": "a94735ee-1d6e-4b62-9853-6532b071061d",
   "metadata": {},
   "outputs": [
    {
     "name": "stdout",
     "output_type": "stream",
     "text": [
      "9.25 <class 'float'>\n"
     ]
    }
   ],
   "source": [
    "# Question 10:\n",
    "# Write a Python program that prints the result of multiplying two floats (e.g.,\n",
    "# 2.5 and 3.7 ). Then check and print the data type of the result.\n",
    "\n",
    "Multiply=(2.5*3.7)\n",
    "print(Multiply, type(Multiply))\n"
   ]
  }
 ],
 "metadata": {
  "kernelspec": {
   "display_name": "Python 3 (ipykernel)",
   "language": "python",
   "name": "python3"
  },
  "language_info": {
   "codemirror_mode": {
    "name": "ipython",
    "version": 3
   },
   "file_extension": ".py",
   "mimetype": "text/x-python",
   "name": "python",
   "nbconvert_exporter": "python",
   "pygments_lexer": "ipython3",
   "version": "3.12.7"
  }
 },
 "nbformat": 4,
 "nbformat_minor": 5
}
