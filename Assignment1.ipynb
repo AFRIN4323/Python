{
 "cells": [
  {
   "cell_type": "code",
   "execution_count": 7,
   "id": "74e88b87-f81a-4d3c-9a78-77d32a4e6186",
   "metadata": {},
   "outputs": [
    {
     "name": "stdout",
     "output_type": "stream",
     "text": [
      "Name: Afrin\n",
      "Favourite colour: Purple\n"
     ]
    }
   ],
   "source": [
    "# Question 1:\n",
    "# Write a Python program to print your name and favourite colour on two separate lines.\n",
    "\n",
    "print(\"Name: Afrin\")\n",
    "print(\"Favourite colour: Purple\")"
   ]
  },
  {
   "cell_type": "code",
   "execution_count": 11,
   "id": "4f8ab53e-e9d0-4246-b04e-62db9a7057a1",
   "metadata": {},
   "outputs": [
    {
     "name": "stdout",
     "output_type": "stream",
     "text": [
      "15\n"
     ]
    }
   ],
   "source": [
    "# Question 2:\n",
    "# Write a Python program that prints the result of adding 7 and 8.\n",
    "\n",
    "print(7+8)"
   ]
  },
  {
   "cell_type": "code",
   "execution_count": 21,
   "id": "019ae838-a564-4d62-ac5b-6dd74294cdf6",
   "metadata": {},
   "outputs": [
    {
     "name": "stdout",
     "output_type": "stream",
     "text": [
      "Python is fun!\n",
      "Let's learn together.\n"
     ]
    }
   ],
   "source": [
    "# Question 3:\n",
    "# Use the print function to display the following text exactly as it is:\n",
    "# Python is fun!\n",
    "# Let's learn together.\n",
    "\n",
    "print(\"Python is fun!\\nLet's learn together.\")"
   ]
  },
  {
   "cell_type": "code",
   "execution_count": 23,
   "id": "ac788e50-ae4f-4c9a-8cba-26ed722d9cff",
   "metadata": {},
   "outputs": [
    {
     "name": "stdout",
     "output_type": "stream",
     "text": [
      "54\n"
     ]
    }
   ],
   "source": [
    "# Question 4:\n",
    "# Write a Python program to calculate and print the result of multiplying 6 by 9.\n",
    "\n",
    "print(6*9)"
   ]
  },
  {
   "cell_type": "code",
   "execution_count": 27,
   "id": "91310a98-68f3-4d3c-8674-37bdd6e15a57",
   "metadata": {},
   "outputs": [
    {
     "name": "stdout",
     "output_type": "stream",
     "text": [
      "10 , 6\n"
     ]
    }
   ],
   "source": [
    "# 5. Question 5:\n",
    "# Write a Python program that prints the result of adding 5 + 5 and\n",
    "# multiplying 2 * 3 in a single line of code.\n",
    "\n",
    "print(5+5,\",\", 2*3)"
   ]
  },
  {
   "cell_type": "code",
   "execution_count": 49,
   "id": "1cbe44c0-0429-4c8d-b90a-0bfe5cf862ed",
   "metadata": {},
   "outputs": [
    {
     "name": "stdin",
     "output_type": "stream",
     "text": [
      " Afrin\n"
     ]
    },
    {
     "name": "stdout",
     "output_type": "stream",
     "text": [
      "Hello Afrin\n"
     ]
    }
   ],
   "source": [
    "# 1. Take the name A as input from the user and print \"Hello A\", where A is\n",
    "# the name in input.\n",
    "\n",
    "A = input()\n",
    "print(\"Hello\", A)"
   ]
  },
  {
   "cell_type": "code",
   "execution_count": 3,
   "id": "1b307b0e-350e-479c-80af-95ef38519572",
   "metadata": {},
   "outputs": [
    {
     "name": "stdout",
     "output_type": "stream",
     "text": [
      "Remaining balance is: 500\n"
     ]
    }
   ],
   "source": [
    "# You have x rupees in your savings. You google pay y rupees, print your\n",
    "# bank balance\n",
    "\n",
    "X = 1000\n",
    "Y = 500\n",
    "\n",
    "Bank_balance = X - Y\n",
    "print(\"Remaining balance is:\", Bank_balance)"
   ]
  },
  {
   "cell_type": "code",
   "execution_count": 7,
   "id": "c7e7061d-7971-4dd1-87fe-13d45f3415ad",
   "metadata": {},
   "outputs": [
    {
     "name": "stdout",
     "output_type": "stream",
     "text": [
      "A\n",
      "B\n",
      "C\n",
      "D\n",
      "E\n"
     ]
    }
   ],
   "source": [
    "# Print the first five letters of the English alphabet i.e. A, B, C, D and E.\n",
    "# one below each other \n",
    "\n",
    "alphabet = \"ABCDE\"\n",
    "for letter in alphabet:\n",
    " print (letter)\n",
    "\n"
   ]
  },
  {
   "cell_type": "code",
   "execution_count": 23,
   "id": "9daec355-c134-4144-864d-08f743511b62",
   "metadata": {},
   "outputs": [
    {
     "name": "stdin",
     "output_type": "stream",
     "text": [
      "Enter first name: Pinky\n",
      "Enter second name: Sam\n"
     ]
    },
    {
     "name": "stdout",
     "output_type": "stream",
     "text": [
      "Pinky says Hi to Sam\n"
     ]
    }
   ],
   "source": [
    "# Take two names A and B as input from the user, and print \"A says Hi to\n",
    "# B\" (Without quotations), where A and B are the names in input.\n",
    "\n",
    "A = input(\"Enter first name:\")\n",
    "B = input(\"Enter second name:\")\n",
    "print(A ,\"says Hi to\", B )\n"
   ]
  }
 ],
 "metadata": {
  "kernelspec": {
   "display_name": "Python 3 (ipykernel)",
   "language": "python",
   "name": "python3"
  },
  "language_info": {
   "codemirror_mode": {
    "name": "ipython",
    "version": 3
   },
   "file_extension": ".py",
   "mimetype": "text/x-python",
   "name": "python",
   "nbconvert_exporter": "python",
   "pygments_lexer": "ipython3",
   "version": "3.12.7"
  }
 },
 "nbformat": 4,
 "nbformat_minor": 5
}
