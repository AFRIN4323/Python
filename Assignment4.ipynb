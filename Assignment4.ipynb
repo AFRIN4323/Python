{
 "cells": [
  {
   "cell_type": "code",
   "execution_count": 12,
   "id": "794ab06b-f9b7-4856-8995-74fc4839f7f7",
   "metadata": {},
   "outputs": [
    {
     "name": "stdin",
     "output_type": "stream",
     "text": [
      "Enter number 2\n"
     ]
    },
    {
     "name": "stdout",
     "output_type": "stream",
     "text": [
      "even\n"
     ]
    }
   ],
   "source": [
    "# 1. Question 1:\n",
    "# Write a Python program that checks if a number entered by the user is even\n",
    "# or odd. Print \"Even\" if the number is even and \"Odd\" if it is odd.\n",
    "\n",
    "number = int(input(\"Enter number\"))\n",
    "if number %2 == 0:\n",
    "   print(\"even\")\n",
    "else:\n",
    "   print(\"odd\")"
   ]
  },
  {
   "cell_type": "code",
   "execution_count": 22,
   "id": "9662ba90-d144-4840-827d-421f2a4df559",
   "metadata": {},
   "outputs": [
    {
     "name": "stdin",
     "output_type": "stream",
     "text": [
      "Enter your age:  25\n"
     ]
    },
    {
     "name": "stdout",
     "output_type": "stream",
     "text": [
      "You are an adult.\n"
     ]
    }
   ],
   "source": [
    "# 2. Question 2:\n",
    "# Create a program that prompts the user for their age and prints whether\n",
    "# they are a child (0-12), teenager (13-19), or adult (20 and above).\n",
    "\n",
    "age = int(input(\"Enter your age: \"))\n",
    "\n",
    "if 0 <= age <= 12:\n",
    "  print(\"You are a child.\")\n",
    "elif 13 <= age <= 19:\n",
    "  print(\"You are a teenager.\")\n",
    "elif age >= 20:\n",
    "  print(\"You are an adult.\")\n",
    "else:\n",
    "  print(\"Invalid age.\")"
   ]
  },
  {
   "cell_type": "code",
   "execution_count": 38,
   "id": "ed5a8b51-4d16-4181-84ef-dd41b774c0b6",
   "metadata": {},
   "outputs": [
    {
     "name": "stdin",
     "output_type": "stream",
     "text": [
      " 4\n",
      " 5\n"
     ]
    },
    {
     "name": "stdout",
     "output_type": "stream",
     "text": [
      "5 is larger than 4\n"
     ]
    }
   ],
   "source": [
    "# 3. Question 3:\n",
    "# Write a program that takes two numbers as input from the user and prints\n",
    "# which number is larger. If both numbers are equal, print \"Both numbers are\n",
    "# equal.\"\n",
    "\n",
    "Number1 = int(input())\n",
    "Number2 = int(input())\n",
    "\n",
    "if Number1 > Number2:\n",
    "   print(Number1, \"is larger than\", Number2)\n",
    "elif Number2 > Number1:\n",
    "   print(Number2,  \"is larger than\", Number1)\n",
    "elif Number1 == Number2:\n",
    "   print(\"Both numbers are equal\")\n",
    "else:\n",
    "   print(\"Invalid input\")\n"
   ]
  },
  {
   "cell_type": "code",
   "execution_count": 5,
   "id": "1594a66a-8195-49d5-ace4-101dd1294b51",
   "metadata": {},
   "outputs": [
    {
     "name": "stdin",
     "output_type": "stream",
     "text": [
      "Put your password  Secure\n"
     ]
    },
    {
     "name": "stdout",
     "output_type": "stream",
     "text": [
      "Access Denied\n"
     ]
    }
   ],
   "source": [
    "# 4. Question 4:\n",
    "# Create a program that checks if a user-entered password matches the\n",
    "# string \"securePassword\". Print \"Access Granted\" if it matches, otherwise\n",
    "# print \"Access Denied.\"\n",
    "\n",
    "Password = input(\"Put your password \")\n",
    "\n",
    "if Password == \"securePassword\":\n",
    "  print (\"Access Granted\")\n",
    "else:\n",
    "  print(\"Access Denied\")\n",
    "\n",
    "\n"
   ]
  },
  {
   "cell_type": "code",
   "execution_count": 19,
   "id": "3f875ffc-09c8-4522-a13d-f0ac4f6a45bf",
   "metadata": {},
   "outputs": [
    {
     "name": "stdin",
     "output_type": "stream",
     "text": [
      "Put score in between 0-100 21\n"
     ]
    },
    {
     "name": "stdout",
     "output_type": "stream",
     "text": [
      "Grade: F\n"
     ]
    }
   ],
   "source": [
    "# 5. Question 5:\n",
    "# Write a program that takes a score from the user (0-100) and prints the\n",
    "# corresponding grade:\n",
    "# A for 90-100\n",
    "# B for 80-89\n",
    "# C for 70-79\n",
    "# D for 60-69\n",
    "# F for below 60\n",
    "\n",
    "Score = int(input(\"Put score in between 0-100\"))\n",
    "\n",
    "if 90 <= Score <= 100:\n",
    "  print (\"Grade: A\")\n",
    "elif 80 <= Score <= 89:\n",
    "  print (\"Grade: B\")\n",
    "elif 70 <= Score <= 79:\n",
    "  print (\"Grade: C\")\n",
    "elif 60 <= Score <= 69:\n",
    "  print (\"Grade: D\")\n",
    "elif 0 <= Score < 60:\n",
    "    print(\"Grade: F\")\n",
    "else:\n",
    "    print(\"Invalid score. Please enter a number between 0 and 100.\")"
   ]
  },
  {
   "cell_type": "code",
   "execution_count": 33,
   "id": "8fd5e44e-9da7-4163-bb30-91b7c519a557",
   "metadata": {},
   "outputs": [
    {
     "name": "stdin",
     "output_type": "stream",
     "text": [
      "Put any number:  0\n"
     ]
    },
    {
     "name": "stdout",
     "output_type": "stream",
     "text": [
      "The Number is zero.\n"
     ]
    }
   ],
   "source": [
    "# 6. Question 6:\n",
    "# Create a program that asks the user for a number and checks if it is\n",
    "# positive, negative, or zero. Print the corresponding message\n",
    "\n",
    "Number = float(input(\"Put any number: \"))\n",
    "\n",
    "if Number > 0:\n",
    "  print (\"The Number is even\")\n",
    "elif Number < 0:\n",
    "  print (\"The Number is odd\")\n",
    "elif Number == 0:\n",
    "    print(\"The Number is zero.\")\n",
    "else:\n",
    "    print(\"Invalid Number\")\n"
   ]
  },
  {
   "cell_type": "code",
   "execution_count": 37,
   "id": "f179b44f-5991-408d-8568-a46dea559c81",
   "metadata": {},
   "outputs": [
    {
     "name": "stdin",
     "output_type": "stream",
     "text": [
      "Enter first number:  5\n",
      "Enter second number:  2\n",
      "Enter third number:  9\n"
     ]
    },
    {
     "name": "stdout",
     "output_type": "stream",
     "text": [
      "The largest number is: 9.0\n"
     ]
    }
   ],
   "source": [
    "# 7. Question 7:\n",
    "# Write a program that takes three numbers from the user and determines the\n",
    "# largest of the three. Print the largest number.\n",
    "\n",
    "Number_1= float(input(\"Enter first number: \"))\n",
    "Number_2= float(input(\"Enter second number: \"))\n",
    "Number_3= float(input(\"Enter third number: \"))\n",
    "\n",
    "if Number_1 >= Number_2 and Number_1 >= Number_3:\n",
    "    largest = Number_1\n",
    "elif Number_2 >= Number_1 and Number_2 >= Number_3:\n",
    "    largest = Number_2\n",
    "else:\n",
    "    largest = Number_3\n",
    "\n",
    "print(\"The largest number is:\", largest)\n",
    "\n"
   ]
  },
  {
   "cell_type": "code",
   "execution_count": 39,
   "id": "e3775dfe-2d85-40b3-8496-4c872e482209",
   "metadata": {},
   "outputs": [
    {
     "name": "stdin",
     "output_type": "stream",
     "text": [
      "Enter a single letter:  a\n"
     ]
    },
    {
     "name": "stdout",
     "output_type": "stream",
     "text": [
      "It's a vowel.\n"
     ]
    }
   ],
   "source": [
    "# 8. Question 8:\n",
    "# Create a program that checks if a user-entered character is a vowel (a, e, i,\n",
    "# o, u) or a consonant. Print the corresponding message.\n",
    "\n",
    "Character = input(\"Enter a single letter: \").lower()\n",
    "\n",
    "if len(Character) == 1 and Character.isalpha():\n",
    "    if Character in ('a', 'e', 'i', 'o', 'u'):\n",
    "        print(\"It's a vowel.\")\n",
    "    else:\n",
    "        print(\"It's a consonant.\")\n",
    "else:\n",
    "    print(\"Invalid input. Please enter a single alphabet letter.\")\n"
   ]
  },
  {
   "cell_type": "code",
   "execution_count": 41,
   "id": "83f46888-3d60-4931-99a7-c7ded7bf8cba",
   "metadata": {},
   "outputs": [
    {
     "name": "stdin",
     "output_type": "stream",
     "text": [
      "Enter a year:  2004\n"
     ]
    },
    {
     "name": "stdout",
     "output_type": "stream",
     "text": [
      "2004 is a leap year.\n"
     ]
    }
   ],
   "source": [
    "# 9. Question 9:\n",
    "# Write a program that checks if a given year is a leap year. A year is a leap\n",
    "# year if it is divisible by 4, except for years that are divisible by 100 but not\n",
    "# divisible by 400.\n",
    "\n",
    "year = int(input(\"Enter a year: \"))\n",
    "\n",
    "if (year % 4 == 0) and (year % 100 != 0 or year % 400 == 0):\n",
    "    print(year, \"is a leap year.\")\n",
    "else:\n",
    "    print(year, \"is not a leap year.\")"
   ]
  },
  {
   "cell_type": "code",
   "execution_count": 47,
   "id": "b92d9a36-426e-425e-9094-3b2c4210b47e",
   "metadata": {},
   "outputs": [
    {
     "name": "stdin",
     "output_type": "stream",
     "text": [
      "Enter temp in celsius:  122\n"
     ]
    },
    {
     "name": "stdout",
     "output_type": "stream",
     "text": [
      "Temperature in Fahrenheit: 251.6\n",
      "It's boiling!\n"
     ]
    }
   ],
   "source": [
    "# 10. Question 10:\n",
    "# Create a program that prompts the user for a temperature in Celsius and\n",
    "# converts it to Fahrenheit. If the converted temperature is greater than 100°F,\n",
    "# print \"It's boiling!\" Otherwise, print \"It's not boiling yet.\"\n",
    "\n",
    "Temp = float(input(\"Enter temp in celsius: \"))\n",
    "\n",
    "fahrenheit = (Temp * 9/5) + 32\n",
    "print(\"Temperature in Fahrenheit:\", fahrenheit)\n",
    "\n",
    "if fahrenheit > 100:\n",
    "    print(\"It's boiling!\")\n",
    "else:\n",
    "    print(\"It's not boiling yet.\")\n",
    "\n",
    "\n",
    "\n"
   ]
  },
  {
   "cell_type": "code",
   "execution_count": null,
   "id": "b9e0b321-6a51-4cce-a45e-565e55f5a0e7",
   "metadata": {},
   "outputs": [],
   "source": []
  }
 ],
 "metadata": {
  "kernelspec": {
   "display_name": "Python 3 (ipykernel)",
   "language": "python",
   "name": "python3"
  },
  "language_info": {
   "codemirror_mode": {
    "name": "ipython",
    "version": 3
   },
   "file_extension": ".py",
   "mimetype": "text/x-python",
   "name": "python",
   "nbconvert_exporter": "python",
   "pygments_lexer": "ipython3",
   "version": "3.12.7"
  }
 },
 "nbformat": 4,
 "nbformat_minor": 5
}
