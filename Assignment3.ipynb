{
 "cells": [
  {
   "cell_type": "code",
   "execution_count": 21,
   "id": "09a219e0-6067-4291-9f93-3c28125088f4",
   "metadata": {},
   "outputs": [
    {
     "name": "stdout",
     "output_type": "stream",
     "text": [
      "Floored division is: 3 Division: 3.75\n"
     ]
    }
   ],
   "source": [
    "# Question 1:\n",
    "# Create a variable x with the value 15 . Perform floored division by 4 and\n",
    "# print the result. What is the difference between floored division and normal\n",
    "# division?\n",
    "\n",
    "x = 15\n",
    "\n",
    "division = x / 4\n",
    "floored_division = x // 4\n",
    "print(\"Floored division is:\",floored_division, \"Division:\",division)\n",
    "\n",
    "#Normal Division (/) #Floored division (//)"
   ]
  },
  {
   "cell_type": "code",
   "execution_count": 27,
   "id": "77c8ca69-5a4c-45b1-92c8-79f2ed90e4be",
   "metadata": {},
   "outputs": [
    {
     "name": "stdout",
     "output_type": "stream",
     "text": [
      "8 ** 2 = 64\n",
      "This represents 8 raised to the power of 2, which is 8 multiplied by itself (8 * 8).\n",
      "16 ** 0.5 = 4.0\n",
      "This represents the square root of 16, which is the number that, when multiplied by itself, equals 16.\n"
     ]
    }
   ],
   "source": [
    "# Question 2:\n",
    "# Write a program to calculate 8 ** 2 and 16 ** 0.5 . Print both results and\n",
    "# describe what each represents.\n",
    "\n",
    "result1 = 8 ** 2\n",
    "print(f\"8 ** 2 = {result1}\")\n",
    "print(\"This represents 8 raised to the power of 2, which is 8 multiplied by itself (8 * 8).\")\n",
    "\n",
    "# Calculate 16 ** 0.5\n",
    "result2 = 16 ** 0.5\n",
    "print(f\"16 ** 0.5 = {result2}\")\n",
    "print(\"This represents the square root of 16, which is the number that, when multiplied by itself, equals 16.\")"
   ]
  },
  {
   "cell_type": "code",
   "execution_count": 29,
   "id": "81d6378d-6123-4059-ac45-4b544c70ff60",
   "metadata": {},
   "outputs": [
    {
     "name": "stdout",
     "output_type": "stream",
     "text": [
      "7.0\n",
      "-5.0\n"
     ]
    }
   ],
   "source": [
    "# Question 3:\n",
    "# Use arithmetic operators to solve the following expression: 20 - 5 * 3 + 8 /4\n",
    "# Use parentheses to make sure the addition happens before\n",
    "# multiplication. Print the output.\n",
    "\n",
    "result1 = 20 - 5 * 3 + 8 / 4\n",
    "print(result1) \n",
    "\n",
    "result2 = 20 - 5 * (3 + 8 / 4)\n",
    "print(result2) "
   ]
  },
  {
   "cell_type": "code",
   "execution_count": 39,
   "id": "086df63d-687b-4434-a11d-f94dc4ef17fe",
   "metadata": {},
   "outputs": [
    {
     "name": "stdout",
     "output_type": "stream",
     "text": [
      "7.0\n"
     ]
    }
   ],
   "source": [
    "# Question 4:\n",
    "# Assign the value 7 to a variable num . Convert it to a float and print the\n",
    "# result. What is the difference between 7 and 7.0 ?\n",
    "\n",
    "num = 7\n",
    "float_num = float(num)\n",
    "print(float_num)\n",
    "\n",
    "# Difference between 7 and 7.0:\n",
    "# Although they represent the same numerical value, 7 is an integer data type, while 7.0 is a floating-point data type."
   ]
  },
  {
   "cell_type": "code",
   "execution_count": 3,
   "id": "dd61417e-40ab-4dcc-b424-fef1cdcca6fb",
   "metadata": {},
   "outputs": [
    {
     "name": "stdout",
     "output_type": "stream",
     "text": [
      "True <class 'bool'>\n"
     ]
    }
   ],
   "source": [
    "# Question 5:\n",
    "# Use a comparison operator to check if 100 is greater than 50 . Print the\n",
    "# result and indicate what type of value this is.\n",
    "\n",
    "ans = 100 > 50\n",
    "print(ans,type(ans))\n"
   ]
  },
  {
   "cell_type": "code",
   "execution_count": 7,
   "id": "5525fb57-8741-4484-bff8-601a43f8f64c",
   "metadata": {},
   "outputs": [
    {
     "name": "stdout",
     "output_type": "stream",
     "text": [
      "False\n"
     ]
    }
   ],
   "source": [
    "# Question 6:\n",
    "# Assign True to a variable is_sunny and False to is_weekend . Use logical\n",
    "# operators to check if it is sunny and the weekend ( is_sunny and is_weekend ).\n",
    "# Print the result.\n",
    "\n",
    "is_sunny = True\n",
    "is_weekend = False\n",
    "print( is_sunny and is_weekend )"
   ]
  },
  {
   "cell_type": "code",
   "execution_count": 30,
   "id": "571cda36-5b29-4259-87b0-584c8913b863",
   "metadata": {},
   "outputs": [
    {
     "name": "stdin",
     "output_type": "stream",
     "text": [
      "Put your password my_password123\n"
     ]
    },
    {
     "name": "stdout",
     "output_type": "stream",
     "text": [
      "True\n"
     ]
    }
   ],
   "source": [
    "# Question 7:\n",
    "# Create a variable password and set it to \"my_password123\" . Ask the user to input\n",
    "# a password and print True if the input matches the value of password ,otherwise print False .\n",
    "\n",
    "password = \"my_password123\"\n",
    "password1=input(\"Put your password\")\n",
    "if password1 ==  \"my_password123\":\n",
    "   print(True)\n",
    "else:\n",
    "   print(False)"
   ]
  },
  {
   "cell_type": "code",
   "execution_count": 36,
   "id": "3d6f79c7-cc20-48d0-a98d-5fdb292bf1e4",
   "metadata": {},
   "outputs": [
    {
     "data": {
      "text/plain": [
       "55"
      ]
     },
     "execution_count": 36,
     "metadata": {},
     "output_type": "execute_result"
    }
   ],
   "source": [
    "# Question 8:\n",
    "# Assign the value 50 to a variable marks . Increment the value of marks by 5\n",
    "# using the += operator, then print the new value.\n",
    "\n",
    "marks = 50\n",
    "marks += 5\n",
    "marks"
   ]
  },
  {
   "cell_type": "code",
   "execution_count": 40,
   "id": "82f74ee6-20a0-4964-ab86-3bc856dfe394",
   "metadata": {},
   "outputs": [
    {
     "name": "stdout",
     "output_type": "stream",
     "text": [
      "10\n"
     ]
    }
   ],
   "source": [
    "# 9. Question 9:\n",
    "# Write a program to check if the value of a = 0 and b = 10 satisfies a or b .\n",
    "# Print the output and explain why it gives that result.\n",
    "\n",
    "a = 0\n",
    "b = 10\n",
    "print(a or b)  #operator returns the first truthy value which is 'b', thus printing 10."
   ]
  },
  {
   "cell_type": "code",
   "execution_count": 46,
   "id": "8863eaa4-d4b7-485f-9d45-d6df7fe4679e",
   "metadata": {},
   "outputs": [
    {
     "name": "stdout",
     "output_type": "stream",
     "text": [
      "True\n"
     ]
    }
   ],
   "source": [
    "# Question 10:\n",
    "# Use not to negate the value of False and print the result. Explain what the\n",
    "# not operator does in Python.\n",
    "\n",
    "value = False\n",
    "neglated_value = not(value)\n",
    "print(neglated_value)"
   ]
  }
 ],
 "metadata": {
  "kernelspec": {
   "display_name": "Python 3 (ipykernel)",
   "language": "python",
   "name": "python3"
  },
  "language_info": {
   "codemirror_mode": {
    "name": "ipython",
    "version": 3
   },
   "file_extension": ".py",
   "mimetype": "text/x-python",
   "name": "python",
   "nbconvert_exporter": "python",
   "pygments_lexer": "ipython3",
   "version": "3.12.7"
  }
 },
 "nbformat": 4,
 "nbformat_minor": 5
}
